{
 "cells": [
  {
   "cell_type": "code",
   "execution_count": 1,
   "metadata": {},
   "outputs": [],
   "source": [
    "import pandas as pd \n",
    "import networkx as nx\n",
    "from matplotlib.pyplot import figure"
   ]
  },
  {
   "cell_type": "code",
   "execution_count": 2,
   "metadata": {},
   "outputs": [],
   "source": [
    "data = pd.read_csv('C:/Users/lucy_/Documents/GitHub/Bioinf1/data/disease_interactome.tsv',sep='\\t')"
   ]
  },
  {
   "cell_type": "code",
   "execution_count": 3,
   "metadata": {},
   "outputs": [
    {
     "data": {
      "text/html": [
       "<div>\n",
       "<style scoped>\n",
       "    .dataframe tbody tr th:only-of-type {\n",
       "        vertical-align: middle;\n",
       "    }\n",
       "\n",
       "    .dataframe tbody tr th {\n",
       "        vertical-align: top;\n",
       "    }\n",
       "\n",
       "    .dataframe thead th {\n",
       "        text-align: right;\n",
       "    }\n",
       "</style>\n",
       "<table border=\"1\" class=\"dataframe\">\n",
       "  <thead>\n",
       "    <tr style=\"text-align: right;\">\n",
       "      <th></th>\n",
       "      <th>interactor A gene symbol</th>\n",
       "      <th>interactor B gene symbol</th>\n",
       "      <th>interactor A Uniprot AC</th>\n",
       "      <th>interactor B Uniprot AC</th>\n",
       "    </tr>\n",
       "  </thead>\n",
       "  <tbody>\n",
       "    <tr>\n",
       "      <th>0</th>\n",
       "      <td>A2M</td>\n",
       "      <td>ENO2</td>\n",
       "      <td>P01023</td>\n",
       "      <td>P09104</td>\n",
       "    </tr>\n",
       "    <tr>\n",
       "      <th>1</th>\n",
       "      <td>ABCA1</td>\n",
       "      <td>IKBKG</td>\n",
       "      <td>O95477</td>\n",
       "      <td>Q9Y6K9</td>\n",
       "    </tr>\n",
       "    <tr>\n",
       "      <th>2</th>\n",
       "      <td>ABL1</td>\n",
       "      <td>BCL2L1</td>\n",
       "      <td>P00519</td>\n",
       "      <td>Q07817</td>\n",
       "    </tr>\n",
       "    <tr>\n",
       "      <th>3</th>\n",
       "      <td>ABL1</td>\n",
       "      <td>PRDX1</td>\n",
       "      <td>P00519</td>\n",
       "      <td>Q06830</td>\n",
       "    </tr>\n",
       "    <tr>\n",
       "      <th>4</th>\n",
       "      <td>ABL1</td>\n",
       "      <td>RB1</td>\n",
       "      <td>P00519</td>\n",
       "      <td>P06400</td>\n",
       "    </tr>\n",
       "  </tbody>\n",
       "</table>\n",
       "</div>"
      ],
      "text/plain": [
       "  interactor A gene symbol interactor B gene symbol interactor A Uniprot AC  \\\n",
       "0                      A2M                     ENO2                  P01023   \n",
       "1                    ABCA1                    IKBKG                  O95477   \n",
       "2                     ABL1                   BCL2L1                  P00519   \n",
       "3                     ABL1                    PRDX1                  P00519   \n",
       "4                     ABL1                      RB1                  P00519   \n",
       "\n",
       "  interactor B Uniprot AC  \n",
       "0                  P09104  \n",
       "1                  Q9Y6K9  \n",
       "2                  Q07817  \n",
       "3                  Q06830  \n",
       "4                  P06400  "
      ]
     },
     "execution_count": 3,
     "metadata": {},
     "output_type": "execute_result"
    }
   ],
   "source": [
    "data.head()"
   ]
  },
  {
   "cell_type": "code",
   "execution_count": 4,
   "metadata": {},
   "outputs": [],
   "source": [
    "nx_data = data[['interactor A gene symbol', 'interactor B gene symbol']]"
   ]
  },
  {
   "cell_type": "code",
   "execution_count": 5,
   "metadata": {},
   "outputs": [
    {
     "data": {
      "text/html": [
       "<div>\n",
       "<style scoped>\n",
       "    .dataframe tbody tr th:only-of-type {\n",
       "        vertical-align: middle;\n",
       "    }\n",
       "\n",
       "    .dataframe tbody tr th {\n",
       "        vertical-align: top;\n",
       "    }\n",
       "\n",
       "    .dataframe thead th {\n",
       "        text-align: right;\n",
       "    }\n",
       "</style>\n",
       "<table border=\"1\" class=\"dataframe\">\n",
       "  <thead>\n",
       "    <tr style=\"text-align: right;\">\n",
       "      <th></th>\n",
       "      <th>interactor A gene symbol</th>\n",
       "      <th>interactor B gene symbol</th>\n",
       "    </tr>\n",
       "  </thead>\n",
       "  <tbody>\n",
       "    <tr>\n",
       "      <th>0</th>\n",
       "      <td>A2M</td>\n",
       "      <td>ENO2</td>\n",
       "    </tr>\n",
       "    <tr>\n",
       "      <th>1</th>\n",
       "      <td>ABCA1</td>\n",
       "      <td>IKBKG</td>\n",
       "    </tr>\n",
       "    <tr>\n",
       "      <th>2</th>\n",
       "      <td>ABL1</td>\n",
       "      <td>BCL2L1</td>\n",
       "    </tr>\n",
       "    <tr>\n",
       "      <th>3</th>\n",
       "      <td>ABL1</td>\n",
       "      <td>PRDX1</td>\n",
       "    </tr>\n",
       "    <tr>\n",
       "      <th>4</th>\n",
       "      <td>ABL1</td>\n",
       "      <td>RB1</td>\n",
       "    </tr>\n",
       "  </tbody>\n",
       "</table>\n",
       "</div>"
      ],
      "text/plain": [
       "  interactor A gene symbol interactor B gene symbol\n",
       "0                      A2M                     ENO2\n",
       "1                    ABCA1                    IKBKG\n",
       "2                     ABL1                   BCL2L1\n",
       "3                     ABL1                    PRDX1\n",
       "4                     ABL1                      RB1"
      ]
     },
     "execution_count": 5,
     "metadata": {},
     "output_type": "execute_result"
    }
   ],
   "source": [
    "nx_data.head()"
   ]
  },
  {
   "cell_type": "markdown",
   "metadata": {},
   "source": [
    "# 2.1.a"
   ]
  },
  {
   "cell_type": "code",
   "execution_count": 6,
   "metadata": {},
   "outputs": [],
   "source": [
    "G = nx.Graph()"
   ]
  },
  {
   "cell_type": "code",
   "execution_count": 9,
   "metadata": {},
   "outputs": [],
   "source": [
    "G = nx.from_pandas_edgelist(nx_data, 'interactor A gene symbol', 'interactor B gene symbol')"
   ]
  },
  {
   "cell_type": "code",
   "execution_count": 12,
   "metadata": {},
   "outputs": [],
   "source": [
    "nx.write_graphml(G, \"g.graphml\")"
   ]
  },
  {
   "cell_type": "code",
   "execution_count": 13,
   "metadata": {},
   "outputs": [],
   "source": [
    "nodes_cardinality = G.number_of_nodes()\n",
    "edges_cardinality = G.number_of_edges()"
   ]
  },
  {
   "cell_type": "code",
   "execution_count": 14,
   "metadata": {},
   "outputs": [],
   "source": [
    "connected_componets_cardinality = nx.number_connected_components(G)"
   ]
  },
  {
   "cell_type": "code",
   "execution_count": 15,
   "metadata": {},
   "outputs": [],
   "source": [
    "isolated_nodes_cardinality = len(list(nx.isolates(G)))"
   ]
  },
  {
   "cell_type": "code",
   "execution_count": 16,
   "metadata": {},
   "outputs": [],
   "source": [
    "average_path_len = nx.average_shortest_path_length(G)"
   ]
  },
  {
   "cell_type": "code",
   "execution_count": 65,
   "metadata": {},
   "outputs": [],
   "source": [
    "#average_degree = nx.average_degree_connectivity(G)"
   ]
  },
  {
   "cell_type": "code",
   "execution_count": 17,
   "metadata": {},
   "outputs": [],
   "source": [
    "average_degree = sum(dict(G.degree()).values())/float(len(G))"
   ]
  },
  {
   "cell_type": "code",
   "execution_count": 18,
   "metadata": {},
   "outputs": [],
   "source": [
    "average_clustering_coefficient = nx.average_clustering(G)"
   ]
  },
  {
   "cell_type": "code",
   "execution_count": 19,
   "metadata": {},
   "outputs": [],
   "source": [
    "network_diameter = nx.diameter(G)"
   ]
  },
  {
   "cell_type": "code",
   "execution_count": 20,
   "metadata": {},
   "outputs": [],
   "source": [
    "network_radius = nx.radius(G)"
   ]
  },
  {
   "cell_type": "code",
   "execution_count": 21,
   "metadata": {},
   "outputs": [],
   "source": [
    "centralization = (nodes_cardinality/(nodes_cardinality-2))*(sorted(G.degree, key=lambda x: x[1], reverse=True)[0][1])/(nodes_cardinality-1)- nx.density(G)"
   ]
  },
  {
   "cell_type": "code",
   "execution_count": 22,
   "metadata": {},
   "outputs": [],
   "source": [
    "keys = ['nodes_cardinality','edges_cardinality','connected_componets_cardinality','isolated_nodes_cardinality','average_path_len' ,'average_degree',\n",
    "       'average_clustering_coefficient','network_diameter' ,'network_radius,centralization', 'centralization']\n",
    "values = [nodes_cardinality,edges_cardinality,connected_componets_cardinality,isolated_nodes_cardinality,average_path_len ,average_degree,\n",
    "       average_clustering_coefficient,network_diameter ,network_radius,centralization, centralization]"
   ]
  },
  {
   "cell_type": "code",
   "execution_count": 23,
   "metadata": {},
   "outputs": [],
   "source": [
    "final_values = pd.DataFrame.from_dict({keys[i]: values[i] for i in range(len(keys))}, orient='index')"
   ]
  },
  {
   "cell_type": "code",
   "execution_count": 24,
   "metadata": {},
   "outputs": [
    {
     "data": {
      "text/html": [
       "<div>\n",
       "<style scoped>\n",
       "    .dataframe tbody tr th:only-of-type {\n",
       "        vertical-align: middle;\n",
       "    }\n",
       "\n",
       "    .dataframe tbody tr th {\n",
       "        vertical-align: top;\n",
       "    }\n",
       "\n",
       "    .dataframe thead th {\n",
       "        text-align: right;\n",
       "    }\n",
       "</style>\n",
       "<table border=\"1\" class=\"dataframe\">\n",
       "  <thead>\n",
       "    <tr style=\"text-align: right;\">\n",
       "      <th></th>\n",
       "      <th>0</th>\n",
       "    </tr>\n",
       "  </thead>\n",
       "  <tbody>\n",
       "    <tr>\n",
       "      <th>average_degree</th>\n",
       "      <td>4.183919</td>\n",
       "    </tr>\n",
       "    <tr>\n",
       "      <th>connected_componets_cardinality</th>\n",
       "      <td>1.000000</td>\n",
       "    </tr>\n",
       "    <tr>\n",
       "      <th>centralization</th>\n",
       "      <td>0.309076</td>\n",
       "    </tr>\n",
       "    <tr>\n",
       "      <th>nodes_cardinality</th>\n",
       "      <td>6318.000000</td>\n",
       "    </tr>\n",
       "    <tr>\n",
       "      <th>network_radius,centralization</th>\n",
       "      <td>4.000000</td>\n",
       "    </tr>\n",
       "    <tr>\n",
       "      <th>network_diameter</th>\n",
       "      <td>8.000000</td>\n",
       "    </tr>\n",
       "    <tr>\n",
       "      <th>edges_cardinality</th>\n",
       "      <td>13217.000000</td>\n",
       "    </tr>\n",
       "    <tr>\n",
       "      <th>average_path_len</th>\n",
       "      <td>3.163104</td>\n",
       "    </tr>\n",
       "    <tr>\n",
       "      <th>average_clustering_coefficient</th>\n",
       "      <td>0.191274</td>\n",
       "    </tr>\n",
       "    <tr>\n",
       "      <th>isolated_nodes_cardinality</th>\n",
       "      <td>0.000000</td>\n",
       "    </tr>\n",
       "  </tbody>\n",
       "</table>\n",
       "</div>"
      ],
      "text/plain": [
       "                                            0\n",
       "average_degree                       4.183919\n",
       "connected_componets_cardinality      1.000000\n",
       "centralization                       0.309076\n",
       "nodes_cardinality                 6318.000000\n",
       "network_radius,centralization        4.000000\n",
       "network_diameter                     8.000000\n",
       "edges_cardinality                13217.000000\n",
       "average_path_len                     3.163104\n",
       "average_clustering_coefficient       0.191274\n",
       "isolated_nodes_cardinality           0.000000"
      ]
     },
     "execution_count": 24,
     "metadata": {},
     "output_type": "execute_result"
    }
   ],
   "source": [
    "final_values"
   ]
  },
  {
   "cell_type": "code",
   "execution_count": 29,
   "metadata": {},
   "outputs": [],
   "source": [
    "final_values.to_csv('graph_final_values.tsv', sep ='\\t')"
   ]
  },
  {
   "cell_type": "markdown",
   "metadata": {},
   "source": [
    "# 2.1.b"
   ]
  },
  {
   "cell_type": "markdown",
   "metadata": {},
   "source": [
    "## 2.1.b.i"
   ]
  },
  {
   "cell_type": "markdown",
   "metadata": {},
   "source": [
    "Since the network doesn't have a LCC, the 2.1.b.i is equal to the 2.1.a"
   ]
  },
  {
   "cell_type": "markdown",
   "metadata": {},
   "source": [
    "## 2.1.b.ii"
   ]
  },
  {
   "cell_type": "code",
   "execution_count": 30,
   "metadata": {},
   "outputs": [],
   "source": [
    "nodes_degree = dict(G.degree())"
   ]
  },
  {
   "cell_type": "code",
   "execution_count": 31,
   "metadata": {},
   "outputs": [],
   "source": [
    "nodes_betweenness_centrality = nx.betweenness_centrality(G)"
   ]
  },
  {
   "cell_type": "code",
   "execution_count": 32,
   "metadata": {},
   "outputs": [],
   "source": [
    "eigen_vector_centrality = nx.eigenvector_centrality(G)"
   ]
  },
  {
   "cell_type": "code",
   "execution_count": 33,
   "metadata": {},
   "outputs": [],
   "source": [
    "closeness_centrality = nx.closeness_centrality(G)"
   ]
  },
  {
   "cell_type": "code",
   "execution_count": 34,
   "metadata": {},
   "outputs": [],
   "source": [
    "betweennes_degree_ratio = {key: nodes_betweenness_centrality[key]/nodes_degree.get(key, 0) for key in nodes_betweenness_centrality}"
   ]
  },
  {
   "cell_type": "code",
   "execution_count": 35,
   "metadata": {},
   "outputs": [],
   "source": [
    "dicts = [nodes_degree,nodes_betweenness_centrality, eigen_vector_centrality, closeness_centrality,betweennes_degree_ratio]\n",
    "local = pd.concat([pd.Series(d) for d in dicts],axis=1).fillna(0).T\n",
    "local.index = ['nodes_degree','nodes_betweenness_centrality', 'eigen_vector_centrality', 'closeness_centrality','betweennes_degree_ratio']\n",
    "local = local.transpose()"
   ]
  },
  {
   "cell_type": "code",
   "execution_count": 36,
   "metadata": {},
   "outputs": [
    {
     "data": {
      "text/html": [
       "<div>\n",
       "<style scoped>\n",
       "    .dataframe tbody tr th:only-of-type {\n",
       "        vertical-align: middle;\n",
       "    }\n",
       "\n",
       "    .dataframe tbody tr th {\n",
       "        vertical-align: top;\n",
       "    }\n",
       "\n",
       "    .dataframe thead th {\n",
       "        text-align: right;\n",
       "    }\n",
       "</style>\n",
       "<table border=\"1\" class=\"dataframe\">\n",
       "  <thead>\n",
       "    <tr style=\"text-align: right;\">\n",
       "      <th></th>\n",
       "      <th>nodes_degree</th>\n",
       "      <th>nodes_betweenness_centrality</th>\n",
       "      <th>eigen_vector_centrality</th>\n",
       "      <th>closeness_centrality</th>\n",
       "      <th>betweennes_degree_ratio</th>\n",
       "    </tr>\n",
       "  </thead>\n",
       "  <tbody>\n",
       "    <tr>\n",
       "      <th>A1BG</th>\n",
       "      <td>1.0</td>\n",
       "      <td>0.000000</td>\n",
       "      <td>0.000635</td>\n",
       "      <td>0.285115</td>\n",
       "      <td>0.000000</td>\n",
       "    </tr>\n",
       "    <tr>\n",
       "      <th>A2M</th>\n",
       "      <td>5.0</td>\n",
       "      <td>0.000741</td>\n",
       "      <td>0.006783</td>\n",
       "      <td>0.350535</td>\n",
       "      <td>0.000148</td>\n",
       "    </tr>\n",
       "    <tr>\n",
       "      <th>A2ML1</th>\n",
       "      <td>1.0</td>\n",
       "      <td>0.000000</td>\n",
       "      <td>0.008514</td>\n",
       "      <td>0.330111</td>\n",
       "      <td>0.000000</td>\n",
       "    </tr>\n",
       "    <tr>\n",
       "      <th>AAAS</th>\n",
       "      <td>3.0</td>\n",
       "      <td>0.000167</td>\n",
       "      <td>0.016180</td>\n",
       "      <td>0.386054</td>\n",
       "      <td>0.000056</td>\n",
       "    </tr>\n",
       "    <tr>\n",
       "      <th>AADAT</th>\n",
       "      <td>1.0</td>\n",
       "      <td>0.000000</td>\n",
       "      <td>0.000232</td>\n",
       "      <td>0.249427</td>\n",
       "      <td>0.000000</td>\n",
       "    </tr>\n",
       "  </tbody>\n",
       "</table>\n",
       "</div>"
      ],
      "text/plain": [
       "       nodes_degree  nodes_betweenness_centrality  eigen_vector_centrality  \\\n",
       "A1BG            1.0                      0.000000                 0.000635   \n",
       "A2M             5.0                      0.000741                 0.006783   \n",
       "A2ML1           1.0                      0.000000                 0.008514   \n",
       "AAAS            3.0                      0.000167                 0.016180   \n",
       "AADAT           1.0                      0.000000                 0.000232   \n",
       "\n",
       "       closeness_centrality  betweennes_degree_ratio  \n",
       "A1BG               0.285115                 0.000000  \n",
       "A2M                0.350535                 0.000148  \n",
       "A2ML1              0.330111                 0.000000  \n",
       "AAAS               0.386054                 0.000056  \n",
       "AADAT              0.249427                 0.000000  "
      ]
     },
     "execution_count": 36,
     "metadata": {},
     "output_type": "execute_result"
    }
   ],
   "source": [
    "local.head()"
   ]
  },
  {
   "cell_type": "code",
   "execution_count": 42,
   "metadata": {},
   "outputs": [],
   "source": [
    "sorted_local = local.sort_values(by=['nodes_betweenness_centrality'],ascending=False)"
   ]
  },
  {
   "cell_type": "code",
   "execution_count": 46,
   "metadata": {},
   "outputs": [],
   "source": [
    "sorted_local = sorted_local.head(20)"
   ]
  },
  {
   "cell_type": "code",
   "execution_count": 48,
   "metadata": {},
   "outputs": [],
   "source": [
    "sorted_local.to_csv('data\\sorted_local.csv')"
   ]
  },
  {
   "cell_type": "code",
   "execution_count": 52,
   "metadata": {},
   "outputs": [],
   "source": [
    "sorted_local = sorted_local.round(5)"
   ]
  },
  {
   "cell_type": "code",
   "execution_count": 61,
   "metadata": {},
   "outputs": [],
   "source": [
    "sorted_local['nodes_degree'] = sorted_local['nodes_degree'].astype(int)"
   ]
  },
  {
   "cell_type": "code",
   "execution_count": 64,
   "metadata": {},
   "outputs": [],
   "source": [
    "sorted_local.to_csv('data\\sorted_local.csv')"
   ]
  },
  {
   "cell_type": "code",
   "execution_count": 65,
   "metadata": {},
   "outputs": [
    {
     "data": {
      "text/html": [
       "<div>\n",
       "<style scoped>\n",
       "    .dataframe tbody tr th:only-of-type {\n",
       "        vertical-align: middle;\n",
       "    }\n",
       "\n",
       "    .dataframe tbody tr th {\n",
       "        vertical-align: top;\n",
       "    }\n",
       "\n",
       "    .dataframe thead th {\n",
       "        text-align: right;\n",
       "    }\n",
       "</style>\n",
       "<table border=\"1\" class=\"dataframe\">\n",
       "  <thead>\n",
       "    <tr style=\"text-align: right;\">\n",
       "      <th></th>\n",
       "      <th>nodes_degree</th>\n",
       "      <th>nodes_betweenness_centrality</th>\n",
       "      <th>eigen_vector_centrality</th>\n",
       "      <th>closeness_centrality</th>\n",
       "      <th>betweennes_degree_ratio</th>\n",
       "    </tr>\n",
       "  </thead>\n",
       "  <tbody>\n",
       "    <tr>\n",
       "      <th>MYC</th>\n",
       "      <td>1956</td>\n",
       "      <td>0.35205</td>\n",
       "      <td>0.47437</td>\n",
       "      <td>0.49275</td>\n",
       "      <td>0.00018</td>\n",
       "    </tr>\n",
       "    <tr>\n",
       "      <th>KRAS</th>\n",
       "      <td>1593</td>\n",
       "      <td>0.27662</td>\n",
       "      <td>0.30863</td>\n",
       "      <td>0.44779</td>\n",
       "      <td>0.00017</td>\n",
       "    </tr>\n",
       "    <tr>\n",
       "      <th>TP53</th>\n",
       "      <td>1328</td>\n",
       "      <td>0.22744</td>\n",
       "      <td>0.28933</td>\n",
       "      <td>0.47593</td>\n",
       "      <td>0.00017</td>\n",
       "    </tr>\n",
       "    <tr>\n",
       "      <th>CTNNB1</th>\n",
       "      <td>708</td>\n",
       "      <td>0.08584</td>\n",
       "      <td>0.18391</td>\n",
       "      <td>0.45121</td>\n",
       "      <td>0.00012</td>\n",
       "    </tr>\n",
       "    <tr>\n",
       "      <th>CDH1</th>\n",
       "      <td>657</td>\n",
       "      <td>0.08236</td>\n",
       "      <td>0.13068</td>\n",
       "      <td>0.41339</td>\n",
       "      <td>0.00013</td>\n",
       "    </tr>\n",
       "    <tr>\n",
       "      <th>HRAS</th>\n",
       "      <td>633</td>\n",
       "      <td>0.07918</td>\n",
       "      <td>0.11843</td>\n",
       "      <td>0.42877</td>\n",
       "      <td>0.00013</td>\n",
       "    </tr>\n",
       "    <tr>\n",
       "      <th>IKBKG</th>\n",
       "      <td>393</td>\n",
       "      <td>0.06577</td>\n",
       "      <td>0.06384</td>\n",
       "      <td>0.41209</td>\n",
       "      <td>0.00017</td>\n",
       "    </tr>\n",
       "    <tr>\n",
       "      <th>MAPK1</th>\n",
       "      <td>330</td>\n",
       "      <td>0.04663</td>\n",
       "      <td>0.07341</td>\n",
       "      <td>0.44735</td>\n",
       "      <td>0.00014</td>\n",
       "    </tr>\n",
       "    <tr>\n",
       "      <th>STAT3</th>\n",
       "      <td>294</td>\n",
       "      <td>0.03999</td>\n",
       "      <td>0.05674</td>\n",
       "      <td>0.39772</td>\n",
       "      <td>0.00014</td>\n",
       "    </tr>\n",
       "    <tr>\n",
       "      <th>PML</th>\n",
       "      <td>276</td>\n",
       "      <td>0.03591</td>\n",
       "      <td>0.07554</td>\n",
       "      <td>0.44891</td>\n",
       "      <td>0.00013</td>\n",
       "    </tr>\n",
       "    <tr>\n",
       "      <th>TK1</th>\n",
       "      <td>204</td>\n",
       "      <td>0.03518</td>\n",
       "      <td>0.03541</td>\n",
       "      <td>0.39880</td>\n",
       "      <td>0.00017</td>\n",
       "    </tr>\n",
       "    <tr>\n",
       "      <th>TNF</th>\n",
       "      <td>301</td>\n",
       "      <td>0.03042</td>\n",
       "      <td>0.05335</td>\n",
       "      <td>0.35493</td>\n",
       "      <td>0.00010</td>\n",
       "    </tr>\n",
       "    <tr>\n",
       "      <th>RB1</th>\n",
       "      <td>259</td>\n",
       "      <td>0.02751</td>\n",
       "      <td>0.06408</td>\n",
       "      <td>0.41100</td>\n",
       "      <td>0.00011</td>\n",
       "    </tr>\n",
       "    <tr>\n",
       "      <th>MAPK3</th>\n",
       "      <td>243</td>\n",
       "      <td>0.02748</td>\n",
       "      <td>0.05554</td>\n",
       "      <td>0.41812</td>\n",
       "      <td>0.00011</td>\n",
       "    </tr>\n",
       "    <tr>\n",
       "      <th>CCNDBP1</th>\n",
       "      <td>131</td>\n",
       "      <td>0.02710</td>\n",
       "      <td>0.00782</td>\n",
       "      <td>0.33523</td>\n",
       "      <td>0.00021</td>\n",
       "    </tr>\n",
       "    <tr>\n",
       "      <th>PRDX1</th>\n",
       "      <td>217</td>\n",
       "      <td>0.02303</td>\n",
       "      <td>0.04798</td>\n",
       "      <td>0.39141</td>\n",
       "      <td>0.00011</td>\n",
       "    </tr>\n",
       "    <tr>\n",
       "      <th>TGFB1</th>\n",
       "      <td>258</td>\n",
       "      <td>0.02283</td>\n",
       "      <td>0.05543</td>\n",
       "      <td>0.35419</td>\n",
       "      <td>0.00009</td>\n",
       "    </tr>\n",
       "    <tr>\n",
       "      <th>CCND1</th>\n",
       "      <td>224</td>\n",
       "      <td>0.01943</td>\n",
       "      <td>0.05819</td>\n",
       "      <td>0.38142</td>\n",
       "      <td>0.00009</td>\n",
       "    </tr>\n",
       "    <tr>\n",
       "      <th>GSTP1</th>\n",
       "      <td>147</td>\n",
       "      <td>0.01909</td>\n",
       "      <td>0.02936</td>\n",
       "      <td>0.38287</td>\n",
       "      <td>0.00013</td>\n",
       "    </tr>\n",
       "    <tr>\n",
       "      <th>BCL2L1</th>\n",
       "      <td>181</td>\n",
       "      <td>0.01880</td>\n",
       "      <td>0.04599</td>\n",
       "      <td>0.40634</td>\n",
       "      <td>0.00010</td>\n",
       "    </tr>\n",
       "  </tbody>\n",
       "</table>\n",
       "</div>"
      ],
      "text/plain": [
       "         nodes_degree  nodes_betweenness_centrality  eigen_vector_centrality  \\\n",
       "MYC              1956                       0.35205                  0.47437   \n",
       "KRAS             1593                       0.27662                  0.30863   \n",
       "TP53             1328                       0.22744                  0.28933   \n",
       "CTNNB1            708                       0.08584                  0.18391   \n",
       "CDH1              657                       0.08236                  0.13068   \n",
       "HRAS              633                       0.07918                  0.11843   \n",
       "IKBKG             393                       0.06577                  0.06384   \n",
       "MAPK1             330                       0.04663                  0.07341   \n",
       "STAT3             294                       0.03999                  0.05674   \n",
       "PML               276                       0.03591                  0.07554   \n",
       "TK1               204                       0.03518                  0.03541   \n",
       "TNF               301                       0.03042                  0.05335   \n",
       "RB1               259                       0.02751                  0.06408   \n",
       "MAPK3             243                       0.02748                  0.05554   \n",
       "CCNDBP1           131                       0.02710                  0.00782   \n",
       "PRDX1             217                       0.02303                  0.04798   \n",
       "TGFB1             258                       0.02283                  0.05543   \n",
       "CCND1             224                       0.01943                  0.05819   \n",
       "GSTP1             147                       0.01909                  0.02936   \n",
       "BCL2L1            181                       0.01880                  0.04599   \n",
       "\n",
       "         closeness_centrality  betweennes_degree_ratio  \n",
       "MYC                   0.49275                  0.00018  \n",
       "KRAS                  0.44779                  0.00017  \n",
       "TP53                  0.47593                  0.00017  \n",
       "CTNNB1                0.45121                  0.00012  \n",
       "CDH1                  0.41339                  0.00013  \n",
       "HRAS                  0.42877                  0.00013  \n",
       "IKBKG                 0.41209                  0.00017  \n",
       "MAPK1                 0.44735                  0.00014  \n",
       "STAT3                 0.39772                  0.00014  \n",
       "PML                   0.44891                  0.00013  \n",
       "TK1                   0.39880                  0.00017  \n",
       "TNF                   0.35493                  0.00010  \n",
       "RB1                   0.41100                  0.00011  \n",
       "MAPK3                 0.41812                  0.00011  \n",
       "CCNDBP1               0.33523                  0.00021  \n",
       "PRDX1                 0.39141                  0.00011  \n",
       "TGFB1                 0.35419                  0.00009  \n",
       "CCND1                 0.38142                  0.00009  \n",
       "GSTP1                 0.38287                  0.00013  \n",
       "BCL2L1                0.40634                  0.00010  "
      ]
     },
     "execution_count": 65,
     "metadata": {},
     "output_type": "execute_result"
    }
   ],
   "source": [
    "sorted_local"
   ]
  }
 ],
 "metadata": {
  "kernelspec": {
   "display_name": "Python 3",
   "language": "python",
   "name": "python3"
  },
  "language_info": {
   "codemirror_mode": {
    "name": "ipython",
    "version": 3
   },
   "file_extension": ".py",
   "mimetype": "text/x-python",
   "name": "python",
   "nbconvert_exporter": "python",
   "pygments_lexer": "ipython3",
   "version": "3.5.2"
  }
 },
 "nbformat": 4,
 "nbformat_minor": 2
}
