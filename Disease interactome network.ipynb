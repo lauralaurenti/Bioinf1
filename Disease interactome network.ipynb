{
 "cells": [
  {
   "cell_type": "code",
   "execution_count": 25,
   "metadata": {},
   "outputs": [],
   "source": [
    "import pandas as pd \n",
    "import networkx as nx\n",
    "from matplotlib.pyplot import figure"
   ]
  },
  {
   "cell_type": "code",
   "execution_count": 4,
   "metadata": {},
   "outputs": [],
   "source": [
    "data = pd.read_csv('C:/Users/lucy_/Documents/GitHub/Bioinf1/data/disease_interactome.tsv',sep='\\t')"
   ]
  },
  {
   "cell_type": "code",
   "execution_count": 96,
   "metadata": {},
   "outputs": [
    {
     "data": {
      "text/html": [
       "<div>\n",
       "<style scoped>\n",
       "    .dataframe tbody tr th:only-of-type {\n",
       "        vertical-align: middle;\n",
       "    }\n",
       "\n",
       "    .dataframe tbody tr th {\n",
       "        vertical-align: top;\n",
       "    }\n",
       "\n",
       "    .dataframe thead th {\n",
       "        text-align: right;\n",
       "    }\n",
       "</style>\n",
       "<table border=\"1\" class=\"dataframe\">\n",
       "  <thead>\n",
       "    <tr style=\"text-align: right;\">\n",
       "      <th></th>\n",
       "      <th>interactor A gene symbol</th>\n",
       "      <th>interactor B gene symbol</th>\n",
       "      <th>interactor A Uniprot AC</th>\n",
       "      <th>interactor B Uniprot AC</th>\n",
       "    </tr>\n",
       "  </thead>\n",
       "  <tbody>\n",
       "    <tr>\n",
       "      <th>0</th>\n",
       "      <td>A2M</td>\n",
       "      <td>ENO2</td>\n",
       "      <td>P01023</td>\n",
       "      <td>P09104</td>\n",
       "    </tr>\n",
       "    <tr>\n",
       "      <th>1</th>\n",
       "      <td>ABCA1</td>\n",
       "      <td>IKBKG</td>\n",
       "      <td>O95477</td>\n",
       "      <td>Q9Y6K9</td>\n",
       "    </tr>\n",
       "    <tr>\n",
       "      <th>2</th>\n",
       "      <td>ABL1</td>\n",
       "      <td>BCL2L1</td>\n",
       "      <td>P00519</td>\n",
       "      <td>Q07817</td>\n",
       "    </tr>\n",
       "    <tr>\n",
       "      <th>3</th>\n",
       "      <td>ABL1</td>\n",
       "      <td>PRDX1</td>\n",
       "      <td>P00519</td>\n",
       "      <td>Q06830</td>\n",
       "    </tr>\n",
       "    <tr>\n",
       "      <th>4</th>\n",
       "      <td>ABL1</td>\n",
       "      <td>RB1</td>\n",
       "      <td>P00519</td>\n",
       "      <td>P06400</td>\n",
       "    </tr>\n",
       "  </tbody>\n",
       "</table>\n",
       "</div>"
      ],
      "text/plain": [
       "  interactor A gene symbol interactor B gene symbol interactor A Uniprot AC  \\\n",
       "0                      A2M                     ENO2                  P01023   \n",
       "1                    ABCA1                    IKBKG                  O95477   \n",
       "2                     ABL1                   BCL2L1                  P00519   \n",
       "3                     ABL1                    PRDX1                  P00519   \n",
       "4                     ABL1                      RB1                  P00519   \n",
       "\n",
       "  interactor B Uniprot AC  \n",
       "0                  P09104  \n",
       "1                  Q9Y6K9  \n",
       "2                  Q07817  \n",
       "3                  Q06830  \n",
       "4                  P06400  "
      ]
     },
     "execution_count": 96,
     "metadata": {},
     "output_type": "execute_result"
    }
   ],
   "source": [
    "data.head()"
   ]
  },
  {
   "cell_type": "code",
   "execution_count": 9,
   "metadata": {},
   "outputs": [],
   "source": [
    "nx_data = data[['interactor A gene symbol', 'interactor B gene symbol']]"
   ]
  },
  {
   "cell_type": "code",
   "execution_count": 10,
   "metadata": {},
   "outputs": [
    {
     "data": {
      "text/html": [
       "<div>\n",
       "<style scoped>\n",
       "    .dataframe tbody tr th:only-of-type {\n",
       "        vertical-align: middle;\n",
       "    }\n",
       "\n",
       "    .dataframe tbody tr th {\n",
       "        vertical-align: top;\n",
       "    }\n",
       "\n",
       "    .dataframe thead th {\n",
       "        text-align: right;\n",
       "    }\n",
       "</style>\n",
       "<table border=\"1\" class=\"dataframe\">\n",
       "  <thead>\n",
       "    <tr style=\"text-align: right;\">\n",
       "      <th></th>\n",
       "      <th>interactor A gene symbol</th>\n",
       "      <th>interactor B gene symbol</th>\n",
       "    </tr>\n",
       "  </thead>\n",
       "  <tbody>\n",
       "    <tr>\n",
       "      <th>0</th>\n",
       "      <td>A2M</td>\n",
       "      <td>ENO2</td>\n",
       "    </tr>\n",
       "    <tr>\n",
       "      <th>1</th>\n",
       "      <td>ABCA1</td>\n",
       "      <td>IKBKG</td>\n",
       "    </tr>\n",
       "    <tr>\n",
       "      <th>2</th>\n",
       "      <td>ABL1</td>\n",
       "      <td>BCL2L1</td>\n",
       "    </tr>\n",
       "    <tr>\n",
       "      <th>3</th>\n",
       "      <td>ABL1</td>\n",
       "      <td>PRDX1</td>\n",
       "    </tr>\n",
       "    <tr>\n",
       "      <th>4</th>\n",
       "      <td>ABL1</td>\n",
       "      <td>RB1</td>\n",
       "    </tr>\n",
       "  </tbody>\n",
       "</table>\n",
       "</div>"
      ],
      "text/plain": [
       "  interactor A gene symbol interactor B gene symbol\n",
       "0                      A2M                     ENO2\n",
       "1                    ABCA1                    IKBKG\n",
       "2                     ABL1                   BCL2L1\n",
       "3                     ABL1                    PRDX1\n",
       "4                     ABL1                      RB1"
      ]
     },
     "execution_count": 10,
     "metadata": {},
     "output_type": "execute_result"
    }
   ],
   "source": [
    "nx_data.head()"
   ]
  },
  {
   "cell_type": "markdown",
   "metadata": {},
   "source": [
    "# 2.1.a"
   ]
  },
  {
   "cell_type": "code",
   "execution_count": 11,
   "metadata": {},
   "outputs": [],
   "source": [
    "G = nx.Graph()"
   ]
  },
  {
   "cell_type": "code",
   "execution_count": 12,
   "metadata": {},
   "outputs": [],
   "source": [
    "G = nx.from_pandas_edgelist(nx_data, 'interactor A gene symbol', 'interactor B gene symbol')"
   ]
  },
  {
   "cell_type": "code",
   "execution_count": 56,
   "metadata": {},
   "outputs": [],
   "source": [
    "nodes_cardinality = G.number_of_nodes()\n",
    "edges_cardinality = G.number_of_edges()"
   ]
  },
  {
   "cell_type": "code",
   "execution_count": 59,
   "metadata": {},
   "outputs": [],
   "source": [
    "connected_componets_cardinality = nx.number_connected_components(G)"
   ]
  },
  {
   "cell_type": "code",
   "execution_count": 99,
   "metadata": {},
   "outputs": [],
   "source": [
    "isolated_nodes_cardinality = len(list(nx.isolates(G)))"
   ]
  },
  {
   "cell_type": "code",
   "execution_count": 62,
   "metadata": {},
   "outputs": [],
   "source": [
    "average_path_len = nx.average_shortest_path_length(G)"
   ]
  },
  {
   "cell_type": "code",
   "execution_count": 65,
   "metadata": {},
   "outputs": [],
   "source": [
    "#average_degree = nx.average_degree_connectivity(G)"
   ]
  },
  {
   "cell_type": "code",
   "execution_count": 95,
   "metadata": {},
   "outputs": [],
   "source": [
    "average_degree = sum(dict(G.degree()).values())/float(len(G))"
   ]
  },
  {
   "cell_type": "code",
   "execution_count": 67,
   "metadata": {},
   "outputs": [],
   "source": [
    "average_clustering_coefficient = nx.average_clustering(G)"
   ]
  },
  {
   "cell_type": "code",
   "execution_count": 69,
   "metadata": {},
   "outputs": [],
   "source": [
    "network_diameter = nx.diameter(G)"
   ]
  },
  {
   "cell_type": "code",
   "execution_count": 71,
   "metadata": {},
   "outputs": [],
   "source": [
    "network_radius = nx.radius(G)"
   ]
  },
  {
   "cell_type": "code",
   "execution_count": 73,
   "metadata": {},
   "outputs": [],
   "source": [
    "centralization = (nodes_cardinality/(nodes_cardinality-2))*(sorted(G.degree, key=lambda x: x[1], reverse=True)[0][1])/(nodes_cardinality-1)- nx.density(G)"
   ]
  },
  {
   "cell_type": "code",
   "execution_count": 106,
   "metadata": {},
   "outputs": [],
   "source": [
    "keys = ['nodes_cardinality','edges_cardinality','connected_componets_cardinality','isolated_nodes_cardinality','average_path_len' ,'average_degree',\n",
    "       'average_clustering_coefficient','network_diameter' ,'network_radius,centralization', 'centralization']\n",
    "values = [nodes_cardinality,edges_cardinality,connected_componets_cardinality,isolated_nodes_cardinality,average_path_len ,average_degree,\n",
    "       average_clustering_coefficient,network_diameter ,network_radius,centralization, centralization]"
   ]
  },
  {
   "cell_type": "code",
   "execution_count": 111,
   "metadata": {},
   "outputs": [],
   "source": [
    "final_values = pd.DataFrame.from_dict({keys[i]: values[i] for i in range(len(keys))}, orient='index')"
   ]
  },
  {
   "cell_type": "code",
   "execution_count": 114,
   "metadata": {},
   "outputs": [
    {
     "data": {
      "text/html": [
       "<div>\n",
       "<style scoped>\n",
       "    .dataframe tbody tr th:only-of-type {\n",
       "        vertical-align: middle;\n",
       "    }\n",
       "\n",
       "    .dataframe tbody tr th {\n",
       "        vertical-align: top;\n",
       "    }\n",
       "\n",
       "    .dataframe thead th {\n",
       "        text-align: right;\n",
       "    }\n",
       "</style>\n",
       "<table border=\"1\" class=\"dataframe\">\n",
       "  <thead>\n",
       "    <tr style=\"text-align: right;\">\n",
       "      <th></th>\n",
       "      <th>0</th>\n",
       "    </tr>\n",
       "  </thead>\n",
       "  <tbody>\n",
       "    <tr>\n",
       "      <th>isolated_nodes_cardinality</th>\n",
       "      <td>0.000000</td>\n",
       "    </tr>\n",
       "    <tr>\n",
       "      <th>centralization</th>\n",
       "      <td>0.309076</td>\n",
       "    </tr>\n",
       "    <tr>\n",
       "      <th>average_path_len</th>\n",
       "      <td>3.163104</td>\n",
       "    </tr>\n",
       "    <tr>\n",
       "      <th>network_diameter</th>\n",
       "      <td>8.000000</td>\n",
       "    </tr>\n",
       "    <tr>\n",
       "      <th>connected_componets_cardinality</th>\n",
       "      <td>1.000000</td>\n",
       "    </tr>\n",
       "    <tr>\n",
       "      <th>network_radius,centralization</th>\n",
       "      <td>4.000000</td>\n",
       "    </tr>\n",
       "    <tr>\n",
       "      <th>average_degree</th>\n",
       "      <td>4.183919</td>\n",
       "    </tr>\n",
       "    <tr>\n",
       "      <th>edges_cardinality</th>\n",
       "      <td>13217.000000</td>\n",
       "    </tr>\n",
       "    <tr>\n",
       "      <th>nodes_cardinality</th>\n",
       "      <td>6318.000000</td>\n",
       "    </tr>\n",
       "    <tr>\n",
       "      <th>average_clustering_coefficient</th>\n",
       "      <td>0.191274</td>\n",
       "    </tr>\n",
       "  </tbody>\n",
       "</table>\n",
       "</div>"
      ],
      "text/plain": [
       "                                            0\n",
       "isolated_nodes_cardinality           0.000000\n",
       "centralization                       0.309076\n",
       "average_path_len                     3.163104\n",
       "network_diameter                     8.000000\n",
       "connected_componets_cardinality      1.000000\n",
       "network_radius,centralization        4.000000\n",
       "average_degree                       4.183919\n",
       "edges_cardinality                13217.000000\n",
       "nodes_cardinality                 6318.000000\n",
       "average_clustering_coefficient       0.191274"
      ]
     },
     "execution_count": 114,
     "metadata": {},
     "output_type": "execute_result"
    }
   ],
   "source": [
    "final_values"
   ]
  },
  {
   "cell_type": "markdown",
   "metadata": {},
   "source": [
    "# 2.1.b"
   ]
  },
  {
   "cell_type": "markdown",
   "metadata": {},
   "source": [
    "## 2.1.b.i"
   ]
  },
  {
   "cell_type": "markdown",
   "metadata": {},
   "source": [
    "Since the network doesn't have a LCC, the 2.1.b.i is equal to the 2.1.a"
   ]
  },
  {
   "cell_type": "markdown",
   "metadata": {},
   "source": [
    "## 2.1.b.ii"
   ]
  },
  {
   "cell_type": "code",
   "execution_count": null,
   "metadata": {},
   "outputs": [],
   "source": [
    "nodes_degree = dict(G.degree())"
   ]
  },
  {
   "cell_type": "code",
   "execution_count": 77,
   "metadata": {},
   "outputs": [],
   "source": [
    "nodes_betweenness_centrality = nx.betweenness_centrality(G)"
   ]
  },
  {
   "cell_type": "code",
   "execution_count": 78,
   "metadata": {},
   "outputs": [],
   "source": [
    "eigen_vector_centrality = nx.eigenvector_centrality(G)"
   ]
  },
  {
   "cell_type": "code",
   "execution_count": 81,
   "metadata": {},
   "outputs": [],
   "source": [
    "closeness_centrality = nx.closeness_centrality(G)"
   ]
  },
  {
   "cell_type": "code",
   "execution_count": 90,
   "metadata": {},
   "outputs": [],
   "source": [
    "betweennes_degree_ratio = {key: nodes_betweenness_centrality[key]/nodes_degree.get(key, 0) for key in nodes_betweenness_centrality}"
   ]
  },
  {
   "cell_type": "code",
   "execution_count": 132,
   "metadata": {},
   "outputs": [],
   "source": [
    "dicts = [nodes_degree,nodes_betweenness_centrality, eigen_vector_centrality, closeness_centrality,betweennes_degree_ratio]\n",
    "local = pd.concat([pd.Series(d) for d in dicts],axis=1).fillna(0).T\n",
    "local.index = ['nodes_degree','nodes_betweenness_centrality', 'eigen_vector_centrality', 'closeness_centrality','betweennes_degree_ratio']\n",
    "local = local.transpose()"
   ]
  },
  {
   "cell_type": "code",
   "execution_count": 133,
   "metadata": {},
   "outputs": [
    {
     "data": {
      "text/html": [
       "<div>\n",
       "<style scoped>\n",
       "    .dataframe tbody tr th:only-of-type {\n",
       "        vertical-align: middle;\n",
       "    }\n",
       "\n",
       "    .dataframe tbody tr th {\n",
       "        vertical-align: top;\n",
       "    }\n",
       "\n",
       "    .dataframe thead th {\n",
       "        text-align: right;\n",
       "    }\n",
       "</style>\n",
       "<table border=\"1\" class=\"dataframe\">\n",
       "  <thead>\n",
       "    <tr style=\"text-align: right;\">\n",
       "      <th></th>\n",
       "      <th>nodes_degree</th>\n",
       "      <th>nodes_betweenness_centrality</th>\n",
       "      <th>eigen_vector_centrality</th>\n",
       "      <th>closeness_centrality</th>\n",
       "      <th>betweennes_degree_ratio</th>\n",
       "    </tr>\n",
       "  </thead>\n",
       "  <tbody>\n",
       "    <tr>\n",
       "      <th>A1BG</th>\n",
       "      <td>1.0</td>\n",
       "      <td>0.000000</td>\n",
       "      <td>0.000635</td>\n",
       "      <td>0.285115</td>\n",
       "      <td>0.000000</td>\n",
       "    </tr>\n",
       "    <tr>\n",
       "      <th>A2M</th>\n",
       "      <td>5.0</td>\n",
       "      <td>0.000741</td>\n",
       "      <td>0.006783</td>\n",
       "      <td>0.350535</td>\n",
       "      <td>0.000148</td>\n",
       "    </tr>\n",
       "    <tr>\n",
       "      <th>A2ML1</th>\n",
       "      <td>1.0</td>\n",
       "      <td>0.000000</td>\n",
       "      <td>0.008514</td>\n",
       "      <td>0.330111</td>\n",
       "      <td>0.000000</td>\n",
       "    </tr>\n",
       "    <tr>\n",
       "      <th>AAAS</th>\n",
       "      <td>3.0</td>\n",
       "      <td>0.000167</td>\n",
       "      <td>0.016180</td>\n",
       "      <td>0.386054</td>\n",
       "      <td>0.000056</td>\n",
       "    </tr>\n",
       "    <tr>\n",
       "      <th>AADAT</th>\n",
       "      <td>1.0</td>\n",
       "      <td>0.000000</td>\n",
       "      <td>0.000232</td>\n",
       "      <td>0.249427</td>\n",
       "      <td>0.000000</td>\n",
       "    </tr>\n",
       "  </tbody>\n",
       "</table>\n",
       "</div>"
      ],
      "text/plain": [
       "       nodes_degree  nodes_betweenness_centrality  eigen_vector_centrality  \\\n",
       "A1BG            1.0                      0.000000                 0.000635   \n",
       "A2M             5.0                      0.000741                 0.006783   \n",
       "A2ML1           1.0                      0.000000                 0.008514   \n",
       "AAAS            3.0                      0.000167                 0.016180   \n",
       "AADAT           1.0                      0.000000                 0.000232   \n",
       "\n",
       "       closeness_centrality  betweennes_degree_ratio  \n",
       "A1BG               0.285115                 0.000000  \n",
       "A2M                0.350535                 0.000148  \n",
       "A2ML1              0.330111                 0.000000  \n",
       "AAAS               0.386054                 0.000056  \n",
       "AADAT              0.249427                 0.000000  "
      ]
     },
     "execution_count": 133,
     "metadata": {},
     "output_type": "execute_result"
    }
   ],
   "source": [
    "local.head()"
   ]
  }
 ],
 "metadata": {
  "kernelspec": {
   "display_name": "Python 3",
   "language": "python",
   "name": "python3"
  },
  "language_info": {
   "codemirror_mode": {
    "name": "ipython",
    "version": 3
   },
   "file_extension": ".py",
   "mimetype": "text/x-python",
   "name": "python",
   "nbconvert_exporter": "python",
   "pygments_lexer": "ipython3",
   "version": "3.5.2"
  }
 },
 "nbformat": 4,
 "nbformat_minor": 2
}
