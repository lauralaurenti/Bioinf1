{
  "nbformat": 4,
  "nbformat_minor": 0,
  "metadata": {
    "colab": {
      "name": "bioinf.ipynb",
      "provenance": [],
      "collapsed_sections": []
    },
    "kernelspec": {
      "name": "python3",
      "display_name": "Python 3"
    }
  },
  "cells": [
    {
      "cell_type": "code",
      "metadata": {
        "id": "UyQ0kJpHmwVB",
        "colab": {
          "base_uri": "https://localhost:8080/"
        },
        "outputId": "342546d3-c1c2-4f23-bc23-eba89dd6f691"
      },
      "source": [
        "!pip install markov_clustering"
      ],
      "execution_count": null,
      "outputs": [
        {
          "output_type": "stream",
          "text": [
            "Collecting markov_clustering\n",
            "  Downloading https://files.pythonhosted.org/packages/76/42/19e11a42fa952d35116b90577e2cde31c541ce78364a52167f852864ba29/markov_clustering-0.0.6.dev0-py3-none-any.whl\n",
            "Requirement already satisfied: scikit-learn in /usr/local/lib/python3.6/dist-packages (from markov_clustering) (0.22.2.post1)\n",
            "Requirement already satisfied: scipy>=0.19.0 in /usr/local/lib/python3.6/dist-packages (from markov_clustering) (1.4.1)\n",
            "Requirement already satisfied: numpy in /usr/local/lib/python3.6/dist-packages (from markov_clustering) (1.19.4)\n",
            "Requirement already satisfied: joblib>=0.11 in /usr/local/lib/python3.6/dist-packages (from scikit-learn->markov_clustering) (1.0.0)\n",
            "Installing collected packages: markov-clustering\n",
            "Successfully installed markov-clustering-0.0.6.dev0\n"
          ],
          "name": "stdout"
        }
      ]
    },
    {
      "cell_type": "code",
      "metadata": {
        "id": "bMerUHfWiBOC"
      },
      "source": [
        "import pandas as pd \r\n",
        "import networkx as nx\r\n",
        "from matplotlib.pyplot import figure\r\n",
        "import csv\r\n",
        "import markov_clustering as mc\r\n",
        "from scipy.stats import hypergeom\r\n",
        "from sklearn.cluster import KMeans"
      ],
      "execution_count": null,
      "outputs": []
    },
    {
      "cell_type": "code",
      "metadata": {
        "colab": {
          "base_uri": "https://localhost:8080/",
          "height": 402
        },
        "id": "vH0KXGQzh4UW",
        "outputId": "0c61db49-d5af-47f9-c2d0-e0b78f11ae10"
      },
      "source": [
        "#data = pd.read_csv('C:/Users/lucy_/Documents/GitHub/Bioinf1/data/disease_interactome.tsv',sep='\\t')\r\n",
        "data = pd.read_csv('disease_interactome.tsv',sep='\\t')\r\n",
        "data#.head()"
      ],
      "execution_count": null,
      "outputs": [
        {
          "output_type": "execute_result",
          "data": {
            "text/html": [
              "<div>\n",
              "<style scoped>\n",
              "    .dataframe tbody tr th:only-of-type {\n",
              "        vertical-align: middle;\n",
              "    }\n",
              "\n",
              "    .dataframe tbody tr th {\n",
              "        vertical-align: top;\n",
              "    }\n",
              "\n",
              "    .dataframe thead th {\n",
              "        text-align: right;\n",
              "    }\n",
              "</style>\n",
              "<table border=\"1\" class=\"dataframe\">\n",
              "  <thead>\n",
              "    <tr style=\"text-align: right;\">\n",
              "      <th></th>\n",
              "      <th>interactor A gene symbol</th>\n",
              "      <th>interactor B gene symbol</th>\n",
              "      <th>interactor A Uniprot AC</th>\n",
              "      <th>interactor B Uniprot AC</th>\n",
              "    </tr>\n",
              "  </thead>\n",
              "  <tbody>\n",
              "    <tr>\n",
              "      <th>0</th>\n",
              "      <td>A2M</td>\n",
              "      <td>ENO2</td>\n",
              "      <td>P01023</td>\n",
              "      <td>P09104</td>\n",
              "    </tr>\n",
              "    <tr>\n",
              "      <th>1</th>\n",
              "      <td>ABCA1</td>\n",
              "      <td>IKBKG</td>\n",
              "      <td>O95477</td>\n",
              "      <td>Q9Y6K9</td>\n",
              "    </tr>\n",
              "    <tr>\n",
              "      <th>2</th>\n",
              "      <td>ABL1</td>\n",
              "      <td>BCL2L1</td>\n",
              "      <td>P00519</td>\n",
              "      <td>Q07817</td>\n",
              "    </tr>\n",
              "    <tr>\n",
              "      <th>3</th>\n",
              "      <td>ABL1</td>\n",
              "      <td>PRDX1</td>\n",
              "      <td>P00519</td>\n",
              "      <td>Q06830</td>\n",
              "    </tr>\n",
              "    <tr>\n",
              "      <th>4</th>\n",
              "      <td>ABL1</td>\n",
              "      <td>RB1</td>\n",
              "      <td>P00519</td>\n",
              "      <td>P06400</td>\n",
              "    </tr>\n",
              "    <tr>\n",
              "      <th>...</th>\n",
              "      <td>...</td>\n",
              "      <td>...</td>\n",
              "      <td>...</td>\n",
              "      <td>...</td>\n",
              "    </tr>\n",
              "    <tr>\n",
              "      <th>13212</th>\n",
              "      <td>SAP25</td>\n",
              "      <td>PML</td>\n",
              "      <td>Q8TEE9</td>\n",
              "      <td>P29590</td>\n",
              "    </tr>\n",
              "    <tr>\n",
              "      <th>13213</th>\n",
              "      <td>MTRNR2L1</td>\n",
              "      <td>PRDX1</td>\n",
              "      <td>P0CJ68</td>\n",
              "      <td>Q06830</td>\n",
              "    </tr>\n",
              "    <tr>\n",
              "      <th>13214</th>\n",
              "      <td>LUCAT1</td>\n",
              "      <td>PRDX1</td>\n",
              "      <td>-</td>\n",
              "      <td>Q06830</td>\n",
              "    </tr>\n",
              "    <tr>\n",
              "      <th>13215</th>\n",
              "      <td>OCLN</td>\n",
              "      <td>GJB1</td>\n",
              "      <td>Q16625</td>\n",
              "      <td>P08034</td>\n",
              "    </tr>\n",
              "    <tr>\n",
              "      <th>13216</th>\n",
              "      <td>MICA</td>\n",
              "      <td>TNFRSF10B</td>\n",
              "      <td>Q29983</td>\n",
              "      <td>O14763</td>\n",
              "    </tr>\n",
              "  </tbody>\n",
              "</table>\n",
              "<p>13217 rows × 4 columns</p>\n",
              "</div>"
            ],
            "text/plain": [
              "      interactor A gene symbol  ... interactor B Uniprot AC\n",
              "0                          A2M  ...                  P09104\n",
              "1                        ABCA1  ...                  Q9Y6K9\n",
              "2                         ABL1  ...                  Q07817\n",
              "3                         ABL1  ...                  Q06830\n",
              "4                         ABL1  ...                  P06400\n",
              "...                        ...  ...                     ...\n",
              "13212                    SAP25  ...                  P29590\n",
              "13213                 MTRNR2L1  ...                  Q06830\n",
              "13214                   LUCAT1  ...                  Q06830\n",
              "13215                     OCLN  ...                  P08034\n",
              "13216                     MICA  ...                  O14763\n",
              "\n",
              "[13217 rows x 4 columns]"
            ]
          },
          "metadata": {
            "tags": []
          },
          "execution_count": 3
        }
      ]
    },
    {
      "cell_type": "code",
      "metadata": {
        "colab": {
          "base_uri": "https://localhost:8080/",
          "height": 195
        },
        "id": "2VowRRazh6xD",
        "outputId": "a8a5cc1c-7cae-478c-839f-3fc73243bc5c"
      },
      "source": [
        "nx_data = data[['interactor A gene symbol', 'interactor B gene symbol']]\r\n",
        "nx_data.head()"
      ],
      "execution_count": null,
      "outputs": [
        {
          "output_type": "execute_result",
          "data": {
            "text/html": [
              "<div>\n",
              "<style scoped>\n",
              "    .dataframe tbody tr th:only-of-type {\n",
              "        vertical-align: middle;\n",
              "    }\n",
              "\n",
              "    .dataframe tbody tr th {\n",
              "        vertical-align: top;\n",
              "    }\n",
              "\n",
              "    .dataframe thead th {\n",
              "        text-align: right;\n",
              "    }\n",
              "</style>\n",
              "<table border=\"1\" class=\"dataframe\">\n",
              "  <thead>\n",
              "    <tr style=\"text-align: right;\">\n",
              "      <th></th>\n",
              "      <th>interactor A gene symbol</th>\n",
              "      <th>interactor B gene symbol</th>\n",
              "    </tr>\n",
              "  </thead>\n",
              "  <tbody>\n",
              "    <tr>\n",
              "      <th>0</th>\n",
              "      <td>A2M</td>\n",
              "      <td>ENO2</td>\n",
              "    </tr>\n",
              "    <tr>\n",
              "      <th>1</th>\n",
              "      <td>ABCA1</td>\n",
              "      <td>IKBKG</td>\n",
              "    </tr>\n",
              "    <tr>\n",
              "      <th>2</th>\n",
              "      <td>ABL1</td>\n",
              "      <td>BCL2L1</td>\n",
              "    </tr>\n",
              "    <tr>\n",
              "      <th>3</th>\n",
              "      <td>ABL1</td>\n",
              "      <td>PRDX1</td>\n",
              "    </tr>\n",
              "    <tr>\n",
              "      <th>4</th>\n",
              "      <td>ABL1</td>\n",
              "      <td>RB1</td>\n",
              "    </tr>\n",
              "  </tbody>\n",
              "</table>\n",
              "</div>"
            ],
            "text/plain": [
              "  interactor A gene symbol interactor B gene symbol\n",
              "0                      A2M                     ENO2\n",
              "1                    ABCA1                    IKBKG\n",
              "2                     ABL1                   BCL2L1\n",
              "3                     ABL1                    PRDX1\n",
              "4                     ABL1                      RB1"
            ]
          },
          "metadata": {
            "tags": []
          },
          "execution_count": 4
        }
      ]
    },
    {
      "cell_type": "code",
      "metadata": {
        "id": "kx01-6kViXvQ"
      },
      "source": [
        "G = nx.Graph()\r\n",
        "G = nx.from_pandas_edgelist(nx_data, 'interactor A gene symbol', 'interactor B gene symbol')\r\n",
        "nodes_cardinality = G.number_of_nodes()\r\n",
        "edges_cardinality = G.number_of_edges()"
      ],
      "execution_count": null,
      "outputs": []
    },
    {
      "cell_type": "code",
      "metadata": {
        "colab": {
          "base_uri": "https://localhost:8080/"
        },
        "id": "pqOo6I4BjtsT",
        "outputId": "559bb7c0-6dd7-48cc-e09a-b99492d94ffe"
      },
      "source": [
        "nodes_cardinality"
      ],
      "execution_count": null,
      "outputs": [
        {
          "output_type": "execute_result",
          "data": {
            "text/plain": [
              "6318"
            ]
          },
          "metadata": {
            "tags": []
          },
          "execution_count": 6
        }
      ]
    },
    {
      "cell_type": "code",
      "metadata": {
        "colab": {
          "base_uri": "https://localhost:8080/",
          "height": 319
        },
        "id": "oujtFDzoZAIn",
        "outputId": "5afd0b42-cda0-4725-ab30-1d38bbca9262"
      },
      "source": [
        "nx.draw(G)"
      ],
      "execution_count": null,
      "outputs": [
        {
          "output_type": "display_data",
          "data": {
            "image/png": "[encoded data removed]",
            "text/plain": [
              "<Figure size 432x288 with 1 Axes>"
            ]
          },
          "metadata": {
            "tags": []
          }
        }
      ]
    },
    {
      "cell_type": "markdown",
      "metadata": {
        "id": "KoncPbQ-ih0h"
      },
      "source": [
        "2.2"
      ]
    },
    {
      "cell_type": "code",
      "metadata": {
        "id": "mYe1Iu94fD9W"
      },
      "source": [
        "def get_genes_symbols(filepath):\r\n",
        "    with open(filepath, 'r') as tsv_in:\r\n",
        "        reader = csv.reader(tsv_in, delimiter='\\t')\r\n",
        "        _ = reader.__next__()\r\n",
        "\r\n",
        "        genes_ids = set()\r\n",
        "        for line in reader:\r\n",
        "            genes_ids.add(str(line[1].strip()))\r\n",
        "\r\n",
        "    return genes_ids"
      ],
      "execution_count": null,
      "outputs": []
    },
    {
      "cell_type": "code",
      "metadata": {
        "id": "B4Hh8bVkfXzQ"
      },
      "source": [
        " seed_genes = get_genes_symbols('/content/approved_genes.tsv')"
      ],
      "execution_count": null,
      "outputs": []
    },
    {
      "cell_type": "code",
      "metadata": {
        "id": "C9B7pmamib78"
      },
      "source": [
        "matrix = nx.to_scipy_sparse_matrix(G) # get the adjacency matrix (in sparse form)\r\n",
        "result = mc.run_mcl(matrix) # run MCL with default parameters\r\n",
        "clusters = mc.get_clusters(result) # get clusters"
      ],
      "execution_count": null,
      "outputs": []
    },
    {
      "cell_type": "code",
      "metadata": {
        "colab": {
          "base_uri": "https://localhost:8080/",
          "height": 248
        },
        "id": "nKFkq3Vf7wkj",
        "outputId": "6254dfe7-22d4-4d25-cb94-c471d9c832bc"
      },
      "source": [
        "mc.draw_graph(matrix, clusters, node_size=50, with_labels=False, edge_color=\"silver\")#, pos=positions, node_size=50, with_labels=False, edge_color=\"silver\")"
      ],
      "execution_count": null,
      "outputs": [
        {
          "output_type": "display_data",
          "data": {
            "image/png": "[encoded data removed]",
            "text/plain": [
              "<Figure size 432x288 with 1 Axes>"
            ]
          },
          "metadata": {
            "tags": []
          }
        }
      ]
    },
    {
      "cell_type": "code",
      "metadata": {
        "colab": {
          "base_uri": "https://localhost:8080/"
        },
        "id": "W6uxAwYDZIY_",
        "outputId": "c571bb9e-2232-48a8-a198-d459a41bc7a2"
      },
      "source": [
        "# Q = mc.modularity(matrix=result, clusters=clusters)\r\n",
        "# Q\r\n",
        "c=0\r\n",
        "to_remove=[]\r\n",
        "for i in range(len(clusters)):\r\n",
        "  if len(clusters[i])>=10:\r\n",
        "    c+=1\r\n",
        "  else:\r\n",
        "    to_remove.append(i)\r\n",
        "    #print(len(clusters[i]))\r\n",
        "print(len(clusters), \"clusters with \", c, \"longer than 10\")\r\n",
        "to_remove"
      ],
      "execution_count": null,
      "outputs": [
        {
          "output_type": "stream",
          "text": [
            "62 clusters with  53 longer than 10\n"
          ],
          "name": "stdout"
        },
        {
          "output_type": "execute_result",
          "data": {
            "text/plain": [
              "[22, 31, 33, 41, 43, 51, 59, 60, 61]"
            ]
          },
          "metadata": {
            "tags": []
          },
          "execution_count": 12
        }
      ]
    },
    {
      "cell_type": "code",
      "metadata": {
        "colab": {
          "base_uri": "https://localhost:8080/"
        },
        "id": "m_M-kIvI7HZf",
        "outputId": "1eae0fb8-e394-4447-8238-c0f17291d22d"
      },
      "source": [
        "clusters_rem=clusters.copy()\r\n",
        "for i in reversed(to_remove):\r\n",
        "  del clusters_rem[i]\r\n",
        "len(clusters_rem)"
      ],
      "execution_count": null,
      "outputs": [
        {
          "output_type": "execute_result",
          "data": {
            "text/plain": [
              "53"
            ]
          },
          "metadata": {
            "tags": []
          },
          "execution_count": 13
        }
      ]
    },
    {
      "cell_type": "code",
      "metadata": {
        "id": "20FHOFSKQ8O4",
        "colab": {
          "base_uri": "https://localhost:8080/"
        },
        "outputId": "41bf46e9-ede8-4a58-c429-dacd82e815ed"
      },
      "source": [
        "final=pd.DataFrame(columns=[\"module_ID\", \"N_seed_genes\", \"N_genes\", \"seed_gene_IDs\", \"all_gene_IDs\", \"p-value\"])\r\n",
        "final\r\n",
        "\r\n",
        "\r\n",
        "\r\n",
        "[M,n,N,x]=[1000,10,7,2]\r\n",
        "pvalue = hypergeom.sf(x-1, M, n, N)\r\n",
        "print(pvalue)\r\n",
        "\r\n",
        "\r\n",
        "for j, module in enumerate(clusters_rem):\r\n",
        "  c=0\r\n",
        "  l=[]\r\n",
        "  f=[]\r\n",
        "  for i in module:\r\n",
        "    if list(G.nodes)[i] in seed_genes:\r\n",
        "      c+=1\r\n",
        "      l.append(i)\r\n",
        "  f.append(j)\r\n",
        "  f.append(c)\r\n",
        "  f.append(len(module))\r\n",
        "  f.append(l)\r\n",
        "  f.append(module)\r\n",
        "\r\n",
        "  M=len(G.nodes) # K = population =M\r\n",
        "  n=len(seed_genes) # k = objects with feature = n\r\n",
        "  N=len(module) # N = draws = N\r\n",
        "  x=c # n = successes in draws = x\r\n",
        "  pvalue = hypergeom.sf(x-1, M, n, N)\r\n",
        "  f.append(pvalue)\r\n",
        "  ff=pd.DataFrame([f], columns=[\"module_ID\", \"N_seed_genes\", \"N_genes\", \"seed_gene_IDs\", \"all_gene_IDs\", \"p-value\"])\r\n",
        "  final=final.append(ff, ignore_index=True)"
      ],
      "execution_count": null,
      "outputs": [
        {
          "output_type": "stream",
          "text": [
            "0.0018418701664548514\n"
          ],
          "name": "stdout"
        }
      ]
    },
    {
      "cell_type": "code",
      "metadata": {
        "colab": {
          "base_uri": "https://localhost:8080/",
          "height": 47
        },
        "id": "-1cOkkihPISo",
        "outputId": "30475f85-58e0-472c-e020-ce29516312ed"
      },
      "source": [
        "final[final['p-value']<0.05]"
      ],
      "execution_count": null,
      "outputs": [
        {
          "output_type": "execute_result",
          "data": {
            "text/html": [
              "<div>\n",
              "<style scoped>\n",
              "    .dataframe tbody tr th:only-of-type {\n",
              "        vertical-align: middle;\n",
              "    }\n",
              "\n",
              "    .dataframe tbody tr th {\n",
              "        vertical-align: top;\n",
              "    }\n",
              "\n",
              "    .dataframe thead th {\n",
              "        text-align: right;\n",
              "    }\n",
              "</style>\n",
              "<table border=\"1\" class=\"dataframe\">\n",
              "  <thead>\n",
              "    <tr style=\"text-align: right;\">\n",
              "      <th></th>\n",
              "      <th>module_ID</th>\n",
              "      <th>N_seed_genes</th>\n",
              "      <th>N_genes</th>\n",
              "      <th>seed_gene_IDs</th>\n",
              "      <th>all_gene_IDs</th>\n",
              "      <th>p-value</th>\n",
              "    </tr>\n",
              "  </thead>\n",
              "  <tbody>\n",
              "  </tbody>\n",
              "</table>\n",
              "</div>"
            ],
            "text/plain": [
              "Empty DataFrame\n",
              "Columns: [module_ID, N_seed_genes, N_genes, seed_gene_IDs, all_gene_IDs, p-value]\n",
              "Index: []"
            ]
          },
          "metadata": {
            "tags": []
          },
          "execution_count": 24
        }
      ]
    },
    {
      "cell_type": "code",
      "metadata": {
        "colab": {
          "base_uri": "https://localhost:8080/",
          "height": 343
        },
        "id": "IG1WHjAZQUqe",
        "outputId": "484463aa-bfac-45ca-c4de-ed3688f46d31"
      },
      "source": [
        "final.sort_values(by=['p-value'])[:10]"
      ],
      "execution_count": null,
      "outputs": [
        {
          "output_type": "execute_result",
          "data": {
            "text/html": [
              "<div>\n",
              "<style scoped>\n",
              "    .dataframe tbody tr th:only-of-type {\n",
              "        vertical-align: middle;\n",
              "    }\n",
              "\n",
              "    .dataframe tbody tr th {\n",
              "        vertical-align: top;\n",
              "    }\n",
              "\n",
              "    .dataframe thead th {\n",
              "        text-align: right;\n",
              "    }\n",
              "</style>\n",
              "<table border=\"1\" class=\"dataframe\">\n",
              "  <thead>\n",
              "    <tr style=\"text-align: right;\">\n",
              "      <th></th>\n",
              "      <th>module_ID</th>\n",
              "      <th>N_seed_genes</th>\n",
              "      <th>N_genes</th>\n",
              "      <th>seed_gene_IDs</th>\n",
              "      <th>all_gene_IDs</th>\n",
              "      <th>p-value</th>\n",
              "    </tr>\n",
              "  </thead>\n",
              "  <tbody>\n",
              "    <tr>\n",
              "      <th>42</th>\n",
              "      <td>42</td>\n",
              "      <td>1</td>\n",
              "      <td>10</td>\n",
              "      <td>[1203]</td>\n",
              "      <td>(212, 1201, 1203, 2226, 2227, 2228, 2229, 2231...</td>\n",
              "      <td>0.161185</td>\n",
              "    </tr>\n",
              "    <tr>\n",
              "      <th>22</th>\n",
              "      <td>22</td>\n",
              "      <td>1</td>\n",
              "      <td>11</td>\n",
              "      <td>[56]</td>\n",
              "      <td>(55, 56, 86, 87, 88, 89, 92, 1716, 4265, 6118,...</td>\n",
              "      <td>0.175813</td>\n",
              "    </tr>\n",
              "    <tr>\n",
              "      <th>48</th>\n",
              "      <td>48</td>\n",
              "      <td>1</td>\n",
              "      <td>11</td>\n",
              "      <td>[596]</td>\n",
              "      <td>(595, 596, 675, 827, 889, 2684, 3231, 3373, 50...</td>\n",
              "      <td>0.175813</td>\n",
              "    </tr>\n",
              "    <tr>\n",
              "      <th>47</th>\n",
              "      <td>47</td>\n",
              "      <td>1</td>\n",
              "      <td>11</td>\n",
              "      <td>[566]</td>\n",
              "      <td>(561, 565, 566, 2280, 2497, 3675, 4807, 4862, ...</td>\n",
              "      <td>0.175813</td>\n",
              "    </tr>\n",
              "    <tr>\n",
              "      <th>18</th>\n",
              "      <td>18</td>\n",
              "      <td>1</td>\n",
              "      <td>12</td>\n",
              "      <td>[35]</td>\n",
              "      <td>(35, 36, 37, 38, 39, 40, 41, 42, 43, 44, 5689,...</td>\n",
              "      <td>0.190187</td>\n",
              "    </tr>\n",
              "    <tr>\n",
              "      <th>41</th>\n",
              "      <td>41</td>\n",
              "      <td>1</td>\n",
              "      <td>12</td>\n",
              "      <td>[210]</td>\n",
              "      <td>(209, 210, 211, 213, 1823, 4395, 5687, 5875, 5...</td>\n",
              "      <td>0.190187</td>\n",
              "    </tr>\n",
              "    <tr>\n",
              "      <th>52</th>\n",
              "      <td>52</td>\n",
              "      <td>1</td>\n",
              "      <td>12</td>\n",
              "      <td>[1180]</td>\n",
              "      <td>(1179, 1180, 1206, 2495, 3311, 3313, 3341, 442...</td>\n",
              "      <td>0.190187</td>\n",
              "    </tr>\n",
              "    <tr>\n",
              "      <th>49</th>\n",
              "      <td>49</td>\n",
              "      <td>1</td>\n",
              "      <td>12</td>\n",
              "      <td>[1535]</td>\n",
              "      <td>(649, 658, 674, 808, 967, 1241, 1535, 4720, 47...</td>\n",
              "      <td>0.190187</td>\n",
              "    </tr>\n",
              "    <tr>\n",
              "      <th>32</th>\n",
              "      <td>32</td>\n",
              "      <td>1</td>\n",
              "      <td>13</td>\n",
              "      <td>[85]</td>\n",
              "      <td>(84, 85, 336, 1189, 2813, 3597, 3689, 4401, 48...</td>\n",
              "      <td>0.204313</td>\n",
              "    </tr>\n",
              "    <tr>\n",
              "      <th>24</th>\n",
              "      <td>24</td>\n",
              "      <td>1</td>\n",
              "      <td>13</td>\n",
              "      <td>[58]</td>\n",
              "      <td>(58, 132, 225, 492, 1763, 1806, 4380, 4546, 58...</td>\n",
              "      <td>0.204313</td>\n",
              "    </tr>\n",
              "  </tbody>\n",
              "</table>\n",
              "</div>"
            ],
            "text/plain": [
              "   module_ID  ...   p-value\n",
              "42        42  ...  0.161185\n",
              "22        22  ...  0.175813\n",
              "48        48  ...  0.175813\n",
              "47        47  ...  0.175813\n",
              "18        18  ...  0.190187\n",
              "41        41  ...  0.190187\n",
              "52        52  ...  0.190187\n",
              "49        49  ...  0.190187\n",
              "32        32  ...  0.204313\n",
              "24        24  ...  0.204313\n",
              "\n",
              "[10 rows x 6 columns]"
            ]
          },
          "metadata": {
            "tags": []
          },
          "execution_count": 41
        }
      ]
    },
    {
      "cell_type": "code",
      "metadata": {
        "id": "U7ZDsOtBikTo",
        "colab": {
          "base_uri": "https://localhost:8080/"
        },
        "outputId": "f1ab4159-e71b-4662-abec-4cd1a27ada95"
      },
      "source": [
        "from scipy.stats import hypergeom\r\n",
        "\r\n",
        "[M,n,N,x]=[1000,10,7,2]\r\n",
        "pvalue = hypergeom.sf(x-1, M, n, N)\r\n",
        "print(pvalue)"
      ],
      "execution_count": null,
      "outputs": [
        {
          "output_type": "stream",
          "text": [
            "0.0018418701664548514\n"
          ],
          "name": "stdout"
        }
      ]
    },
    {
      "cell_type": "code",
      "metadata": {
        "id": "CFGMitB1ozy6"
      },
      "source": [
        "from  DIAMOnD3 import *"
      ],
      "execution_count": null,
      "outputs": []
    },
    {
      "cell_type": "code",
      "metadata": {
        "id": "grjMEwfMpuaT",
        "colab": {
          "base_uri": "https://localhost:8080/"
        },
        "outputId": "ebb16568-c834-4a40-c0db-78d06f9d6b5d"
      },
      "source": [
        "outfile_name=\"/content/outfile_name.tsv\"\r\n",
        "added_nodes = DIAMOnD(G, seed_genes, max_number_of_added_nodes=200, alpha=1, outfile=outfile_name)\r\n",
        "print(\"\\n results have been saved to '%s' \\n\" % outfile_name)"
      ],
      "execution_count": null,
      "outputs": [
        {
          "output_type": "stream",
          "text": [
            "DIAMOnD(): ignoring 30 of 110 seed genes that are not in the network\n",
            "\n",
            " results have been saved to '/content/outfile_name.tsv' \n",
            "\n"
          ],
          "name": "stdout"
        }
      ]
    },
    {
      "cell_type": "code",
      "metadata": {
        "id": "10pmFmT_o60x",
        "colab": {
          "base_uri": "https://localhost:8080/"
        },
        "outputId": "9568084c-533a-4d72-b81a-d0179e392833"
      },
      "source": [
        "added_nodes[:3]"
      ],
      "execution_count": null,
      "outputs": [
        {
          "output_type": "execute_result",
          "data": {
            "text/plain": [
              "[('EGFR', 20, 20, array([8.63046814e-40])),\n",
              " ('HNRNPK', 19, 19, array([1.16431222e-37])),\n",
              " ('TRIM25', 19, 19, array([1.515454e-37]))]"
            ]
          },
          "metadata": {
            "tags": []
          },
          "execution_count": 16
        }
      ]
    },
    {
      "cell_type": "code",
      "metadata": {
        "colab": {
          "base_uri": "https://localhost:8080/"
        },
        "id": "xUaX1bz3cArL",
        "outputId": "bd3cd932-30ef-430e-a691-d47e3182c0a9"
      },
      "source": [
        "added_nodes_new = []\r\n",
        "\r\n",
        "for row in added_nodes:\r\n",
        "  new_row = list(row[0:3])\r\n",
        "  new_row.append(row[3][0])\r\n",
        "  added_nodes_new.append(new_row)\r\n",
        "\r\n",
        "added_nodes_new[:5]"
      ],
      "execution_count": null,
      "outputs": [
        {
          "output_type": "execute_result",
          "data": {
            "text/plain": [
              "[['EGFR', 20, 20, 8.630468140178172e-40],\n",
              " ['HNRNPK', 19, 19, 1.1643122221052507e-37],\n",
              " ['TRIM25', 19, 19, 1.5154540033751182e-37],\n",
              " ['HSP90AA1', 19, 19, 1.96535441062697e-37],\n",
              " ['HNRNPA1', 19, 19, 2.5398426229640867e-37]]"
            ]
          },
          "metadata": {
            "tags": []
          },
          "execution_count": 19
        }
      ]
    },
    {
      "cell_type": "code",
      "metadata": {
        "id": "wLxowIizNMWW",
        "colab": {
          "base_uri": "https://localhost:8080/",
          "height": 402
        },
        "outputId": "cfbf1fef-ef70-4c06-9614-efa022fb9224"
      },
      "source": [
        "diamond_df = pd.DataFrame(added_nodes_new, index=None, \r\n",
        "                          columns=['GeneSymbol', 'Degree', 'No. of neighbors', 'p-value'])\r\n",
        "diamond_df"
      ],
      "execution_count": null,
      "outputs": [
        {
          "output_type": "execute_result",
          "data": {
            "text/html": [
              "<div>\n",
              "<style scoped>\n",
              "    .dataframe tbody tr th:only-of-type {\n",
              "        vertical-align: middle;\n",
              "    }\n",
              "\n",
              "    .dataframe tbody tr th {\n",
              "        vertical-align: top;\n",
              "    }\n",
              "\n",
              "    .dataframe thead th {\n",
              "        text-align: right;\n",
              "    }\n",
              "</style>\n",
              "<table border=\"1\" class=\"dataframe\">\n",
              "  <thead>\n",
              "    <tr style=\"text-align: right;\">\n",
              "      <th></th>\n",
              "      <th>GeneSymbol</th>\n",
              "      <th>Degree</th>\n",
              "      <th>No. of neighbors</th>\n",
              "      <th>p-value</th>\n",
              "    </tr>\n",
              "  </thead>\n",
              "  <tbody>\n",
              "    <tr>\n",
              "      <th>0</th>\n",
              "      <td>EGFR</td>\n",
              "      <td>20</td>\n",
              "      <td>20</td>\n",
              "      <td>8.630468e-40</td>\n",
              "    </tr>\n",
              "    <tr>\n",
              "      <th>1</th>\n",
              "      <td>HNRNPK</td>\n",
              "      <td>19</td>\n",
              "      <td>19</td>\n",
              "      <td>1.164312e-37</td>\n",
              "    </tr>\n",
              "    <tr>\n",
              "      <th>2</th>\n",
              "      <td>TRIM25</td>\n",
              "      <td>19</td>\n",
              "      <td>19</td>\n",
              "      <td>1.515454e-37</td>\n",
              "    </tr>\n",
              "    <tr>\n",
              "      <th>3</th>\n",
              "      <td>HSP90AA1</td>\n",
              "      <td>19</td>\n",
              "      <td>19</td>\n",
              "      <td>1.965354e-37</td>\n",
              "    </tr>\n",
              "    <tr>\n",
              "      <th>4</th>\n",
              "      <td>HNRNPA1</td>\n",
              "      <td>19</td>\n",
              "      <td>19</td>\n",
              "      <td>2.539843e-37</td>\n",
              "    </tr>\n",
              "    <tr>\n",
              "      <th>...</th>\n",
              "      <td>...</td>\n",
              "      <td>...</td>\n",
              "      <td>...</td>\n",
              "      <td>...</td>\n",
              "    </tr>\n",
              "    <tr>\n",
              "      <th>195</th>\n",
              "      <td>MSN</td>\n",
              "      <td>7</td>\n",
              "      <td>7</td>\n",
              "      <td>2.749709e-10</td>\n",
              "    </tr>\n",
              "    <tr>\n",
              "      <th>196</th>\n",
              "      <td>CRYAB</td>\n",
              "      <td>7</td>\n",
              "      <td>7</td>\n",
              "      <td>2.821263e-10</td>\n",
              "    </tr>\n",
              "    <tr>\n",
              "      <th>197</th>\n",
              "      <td>STUB1</td>\n",
              "      <td>7</td>\n",
              "      <td>7</td>\n",
              "      <td>2.894407e-10</td>\n",
              "    </tr>\n",
              "    <tr>\n",
              "      <th>198</th>\n",
              "      <td>PTPN11</td>\n",
              "      <td>7</td>\n",
              "      <td>7</td>\n",
              "      <td>2.969170e-10</td>\n",
              "    </tr>\n",
              "    <tr>\n",
              "      <th>199</th>\n",
              "      <td>ACTG1</td>\n",
              "      <td>7</td>\n",
              "      <td>7</td>\n",
              "      <td>3.045583e-10</td>\n",
              "    </tr>\n",
              "  </tbody>\n",
              "</table>\n",
              "<p>200 rows × 4 columns</p>\n",
              "</div>"
            ],
            "text/plain": [
              "    GeneSymbol  Degree  No. of neighbors       p-value\n",
              "0         EGFR      20                20  8.630468e-40\n",
              "1       HNRNPK      19                19  1.164312e-37\n",
              "2       TRIM25      19                19  1.515454e-37\n",
              "3     HSP90AA1      19                19  1.965354e-37\n",
              "4      HNRNPA1      19                19  2.539843e-37\n",
              "..         ...     ...               ...           ...\n",
              "195        MSN       7                 7  2.749709e-10\n",
              "196      CRYAB       7                 7  2.821263e-10\n",
              "197      STUB1       7                 7  2.894407e-10\n",
              "198     PTPN11       7                 7  2.969170e-10\n",
              "199      ACTG1       7                 7  3.045583e-10\n",
              "\n",
              "[200 rows x 4 columns]"
            ]
          },
          "metadata": {
            "tags": []
          },
          "execution_count": 20
        }
      ]
    },
    {
      "cell_type": "code",
      "metadata": {
        "id": "2CbxOBQQb6VZ"
      },
      "source": [
        "diamond_df.to_csv(\"/content/diamond_data.tsv\", index=None, sep=\"\\t\")"
      ],
      "execution_count": null,
      "outputs": []
    }
  ]
}